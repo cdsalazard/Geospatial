{
 "cells": [
  {
   "cell_type": "code",
   "execution_count": 1,
   "metadata": {},
   "outputs": [],
   "source": [
    "import pandas as pd\n",
    "import re\n",
    "import os\n",
    "from os import path\n",
    "import matplotlib.pyplot as plt\n",
    "from scipy.interpolate import interp2d\n",
    "from scipy import interpolate\n",
    "import numpy as np\n",
    "import pylab as py\n",
    "from pykrige.ok import OrdinaryKriging\n",
    "from pyproj import Transformer"
   ]
  },
  {
   "cell_type": "code",
   "execution_count": 2,
   "metadata": {},
   "outputs": [
    {
     "data": {
      "text/plain": [
       "Unnamed: 0      int64\n",
       "Estacion        int64\n",
       "Year            int64\n",
       "Mes             int64\n",
       "Dia             int64\n",
       "Valor         float64\n",
       "Latitud       float64\n",
       "Longitud      float64\n",
       "dtype: object"
      ]
     },
     "execution_count": 2,
     "metadata": {},
     "output_type": "execute_result"
    }
   ],
   "source": [
    "df = pd.read_csv(\"Bogota_lluvia_diario.csv\")\n",
    "df.dtypes"
   ]
  },
  {
   "cell_type": "code",
   "execution_count": 3,
   "metadata": {},
   "outputs": [
    {
     "name": "stderr",
     "output_type": "stream",
     "text": [
      "<ipython-input-3-ad738e4fb2a3>:17: SettingWithCopyWarning: \n",
      "A value is trying to be set on a copy of a slice from a DataFrame.\n",
      "Try using .loc[row_indexer,col_indexer] = value instead\n",
      "\n",
      "See the caveats in the documentation: https://pandas.pydata.org/pandas-docs/stable/user_guide/indexing.html#returning-a-view-versus-a-copy\n",
      "  df_d['x'] = cartesian[1]\n",
      "<ipython-input-3-ad738e4fb2a3>:18: SettingWithCopyWarning: \n",
      "A value is trying to be set on a copy of a slice from a DataFrame.\n",
      "Try using .loc[row_indexer,col_indexer] = value instead\n",
      "\n",
      "See the caveats in the documentation: https://pandas.pydata.org/pandas-docs/stable/user_guide/indexing.html#returning-a-view-versus-a-copy\n",
      "  df_d['y'] = cartesian[0]\n"
     ]
    },
    {
     "data": {
      "text/html": [
       "<div>\n",
       "<style scoped>\n",
       "    .dataframe tbody tr th:only-of-type {\n",
       "        vertical-align: middle;\n",
       "    }\n",
       "\n",
       "    .dataframe tbody tr th {\n",
       "        vertical-align: top;\n",
       "    }\n",
       "\n",
       "    .dataframe thead th {\n",
       "        text-align: right;\n",
       "    }\n",
       "</style>\n",
       "<table border=\"1\" class=\"dataframe\">\n",
       "  <thead>\n",
       "    <tr style=\"text-align: right;\">\n",
       "      <th></th>\n",
       "      <th>Estacion</th>\n",
       "      <th>Year</th>\n",
       "      <th>Mes</th>\n",
       "      <th>Dia</th>\n",
       "      <th>Valor</th>\n",
       "      <th>Latitud</th>\n",
       "      <th>Longitud</th>\n",
       "      <th>x</th>\n",
       "      <th>y</th>\n",
       "    </tr>\n",
       "  </thead>\n",
       "  <tbody>\n",
       "    <tr>\n",
       "      <th>0</th>\n",
       "      <td>21190270</td>\n",
       "      <td>2019</td>\n",
       "      <td>11</td>\n",
       "      <td>4</td>\n",
       "      <td>2.9</td>\n",
       "      <td>4.031028</td>\n",
       "      <td>-74.311167</td>\n",
       "      <td>9.740531e+05</td>\n",
       "      <td>9.375066e+05</td>\n",
       "    </tr>\n",
       "    <tr>\n",
       "      <th>1</th>\n",
       "      <td>21201230</td>\n",
       "      <td>2019</td>\n",
       "      <td>11</td>\n",
       "      <td>4</td>\n",
       "      <td>0.0</td>\n",
       "      <td>4.701125</td>\n",
       "      <td>-74.070306</td>\n",
       "      <td>1.000799e+06</td>\n",
       "      <td>1.011603e+06</td>\n",
       "    </tr>\n",
       "    <tr>\n",
       "      <th>2</th>\n",
       "      <td>21201240</td>\n",
       "      <td>2019</td>\n",
       "      <td>11</td>\n",
       "      <td>4</td>\n",
       "      <td>0.0</td>\n",
       "      <td>4.481306</td>\n",
       "      <td>-74.126278</td>\n",
       "      <td>9.945874e+05</td>\n",
       "      <td>9.872950e+05</td>\n",
       "    </tr>\n",
       "    <tr>\n",
       "      <th>3</th>\n",
       "      <td>21201300</td>\n",
       "      <td>2019</td>\n",
       "      <td>11</td>\n",
       "      <td>4</td>\n",
       "      <td>0.0</td>\n",
       "      <td>4.394250</td>\n",
       "      <td>-74.132000</td>\n",
       "      <td>9.939517e+05</td>\n",
       "      <td>9.776683e+05</td>\n",
       "    </tr>\n",
       "    <tr>\n",
       "      <th>4</th>\n",
       "      <td>21201580</td>\n",
       "      <td>2019</td>\n",
       "      <td>11</td>\n",
       "      <td>4</td>\n",
       "      <td>3.1</td>\n",
       "      <td>4.446500</td>\n",
       "      <td>-74.154833</td>\n",
       "      <td>9.914179e+05</td>\n",
       "      <td>9.834464e+05</td>\n",
       "    </tr>\n",
       "    <tr>\n",
       "      <th>5</th>\n",
       "      <td>21202280</td>\n",
       "      <td>2019</td>\n",
       "      <td>11</td>\n",
       "      <td>4</td>\n",
       "      <td>0.0</td>\n",
       "      <td>4.684000</td>\n",
       "      <td>-74.129000</td>\n",
       "      <td>9.942869e+05</td>\n",
       "      <td>1.009709e+06</td>\n",
       "    </tr>\n",
       "    <tr>\n",
       "      <th>6</th>\n",
       "      <td>21205580</td>\n",
       "      <td>2019</td>\n",
       "      <td>11</td>\n",
       "      <td>4</td>\n",
       "      <td>1.0</td>\n",
       "      <td>4.598361</td>\n",
       "      <td>-74.061556</td>\n",
       "      <td>1.001770e+06</td>\n",
       "      <td>1.000239e+06</td>\n",
       "    </tr>\n",
       "    <tr>\n",
       "      <th>7</th>\n",
       "      <td>21205710</td>\n",
       "      <td>2019</td>\n",
       "      <td>11</td>\n",
       "      <td>4</td>\n",
       "      <td>0.0</td>\n",
       "      <td>4.669333</td>\n",
       "      <td>-74.102667</td>\n",
       "      <td>9.972086e+05</td>\n",
       "      <td>1.008087e+06</td>\n",
       "    </tr>\n",
       "    <tr>\n",
       "      <th>8</th>\n",
       "      <td>21206260</td>\n",
       "      <td>2019</td>\n",
       "      <td>11</td>\n",
       "      <td>4</td>\n",
       "      <td>5.2</td>\n",
       "      <td>4.798639</td>\n",
       "      <td>-74.049722</td>\n",
       "      <td>1.003082e+06</td>\n",
       "      <td>1.022386e+06</td>\n",
       "    </tr>\n",
       "    <tr>\n",
       "      <th>9</th>\n",
       "      <td>21206560</td>\n",
       "      <td>2019</td>\n",
       "      <td>11</td>\n",
       "      <td>4</td>\n",
       "      <td>0.0</td>\n",
       "      <td>4.661111</td>\n",
       "      <td>-74.134778</td>\n",
       "      <td>9.936457e+05</td>\n",
       "      <td>1.007178e+06</td>\n",
       "    </tr>\n",
       "    <tr>\n",
       "      <th>10</th>\n",
       "      <td>21206600</td>\n",
       "      <td>2019</td>\n",
       "      <td>11</td>\n",
       "      <td>4</td>\n",
       "      <td>1.6</td>\n",
       "      <td>4.782222</td>\n",
       "      <td>-74.094333</td>\n",
       "      <td>9.981335e+05</td>\n",
       "      <td>1.020571e+06</td>\n",
       "    </tr>\n",
       "    <tr>\n",
       "      <th>11</th>\n",
       "      <td>21206650</td>\n",
       "      <td>2019</td>\n",
       "      <td>11</td>\n",
       "      <td>4</td>\n",
       "      <td>0.0</td>\n",
       "      <td>4.516753</td>\n",
       "      <td>-74.088222</td>\n",
       "      <td>9.988110e+05</td>\n",
       "      <td>9.912146e+05</td>\n",
       "    </tr>\n",
       "    <tr>\n",
       "      <th>12</th>\n",
       "      <td>21206690</td>\n",
       "      <td>2019</td>\n",
       "      <td>11</td>\n",
       "      <td>4</td>\n",
       "      <td>0.0</td>\n",
       "      <td>4.813167</td>\n",
       "      <td>-74.031111</td>\n",
       "      <td>1.005147e+06</td>\n",
       "      <td>1.023993e+06</td>\n",
       "    </tr>\n",
       "    <tr>\n",
       "      <th>13</th>\n",
       "      <td>35020310</td>\n",
       "      <td>2019</td>\n",
       "      <td>11</td>\n",
       "      <td>4</td>\n",
       "      <td>2.4</td>\n",
       "      <td>4.172250</td>\n",
       "      <td>-74.146000</td>\n",
       "      <td>9.923956e+05</td>\n",
       "      <td>9.531196e+05</td>\n",
       "    </tr>\n",
       "    <tr>\n",
       "      <th>14</th>\n",
       "      <td>35020350</td>\n",
       "      <td>2019</td>\n",
       "      <td>11</td>\n",
       "      <td>4</td>\n",
       "      <td>0.5</td>\n",
       "      <td>4.218889</td>\n",
       "      <td>-74.146861</td>\n",
       "      <td>9.923004e+05</td>\n",
       "      <td>9.582769e+05</td>\n",
       "    </tr>\n",
       "    <tr>\n",
       "      <th>15</th>\n",
       "      <td>35025070</td>\n",
       "      <td>2019</td>\n",
       "      <td>11</td>\n",
       "      <td>4</td>\n",
       "      <td>2.2</td>\n",
       "      <td>4.196667</td>\n",
       "      <td>-74.190944</td>\n",
       "      <td>9.874059e+05</td>\n",
       "      <td>9.558201e+05</td>\n",
       "    </tr>\n",
       "  </tbody>\n",
       "</table>\n",
       "</div>"
      ],
      "text/plain": [
       "    Estacion  Year  Mes  Dia  Valor   Latitud   Longitud             x  \\\n",
       "0   21190270  2019   11    4    2.9  4.031028 -74.311167  9.740531e+05   \n",
       "1   21201230  2019   11    4    0.0  4.701125 -74.070306  1.000799e+06   \n",
       "2   21201240  2019   11    4    0.0  4.481306 -74.126278  9.945874e+05   \n",
       "3   21201300  2019   11    4    0.0  4.394250 -74.132000  9.939517e+05   \n",
       "4   21201580  2019   11    4    3.1  4.446500 -74.154833  9.914179e+05   \n",
       "5   21202280  2019   11    4    0.0  4.684000 -74.129000  9.942869e+05   \n",
       "6   21205580  2019   11    4    1.0  4.598361 -74.061556  1.001770e+06   \n",
       "7   21205710  2019   11    4    0.0  4.669333 -74.102667  9.972086e+05   \n",
       "8   21206260  2019   11    4    5.2  4.798639 -74.049722  1.003082e+06   \n",
       "9   21206560  2019   11    4    0.0  4.661111 -74.134778  9.936457e+05   \n",
       "10  21206600  2019   11    4    1.6  4.782222 -74.094333  9.981335e+05   \n",
       "11  21206650  2019   11    4    0.0  4.516753 -74.088222  9.988110e+05   \n",
       "12  21206690  2019   11    4    0.0  4.813167 -74.031111  1.005147e+06   \n",
       "13  35020310  2019   11    4    2.4  4.172250 -74.146000  9.923956e+05   \n",
       "14  35020350  2019   11    4    0.5  4.218889 -74.146861  9.923004e+05   \n",
       "15  35025070  2019   11    4    2.2  4.196667 -74.190944  9.874059e+05   \n",
       "\n",
       "               y  \n",
       "0   9.375066e+05  \n",
       "1   1.011603e+06  \n",
       "2   9.872950e+05  \n",
       "3   9.776683e+05  \n",
       "4   9.834464e+05  \n",
       "5   1.009709e+06  \n",
       "6   1.000239e+06  \n",
       "7   1.008087e+06  \n",
       "8   1.022386e+06  \n",
       "9   1.007178e+06  \n",
       "10  1.020571e+06  \n",
       "11  9.912146e+05  \n",
       "12  1.023993e+06  \n",
       "13  9.531196e+05  \n",
       "14  9.582769e+05  \n",
       "15  9.558201e+05  "
      ]
     },
     "execution_count": 3,
     "metadata": {},
     "output_type": "execute_result"
    },
    {
     "data": {
      "image/png": "[encoded data removed]",
      "text/plain": [
       "<Figure size 432x288 with 1 Axes>"
      ]
     },
     "metadata": {
      "needs_background": "light"
     },
     "output_type": "display_data"
    }
   ],
   "source": [
    "#Filtramos para la fecha deseada\n",
    "year = 2019\n",
    "mes =11\n",
    "dia = 4\n",
    "df_y = df[df['Year']== year]\n",
    "df_m = df_y[df_y['Mes'] == mes]\n",
    "df_d = df_m[df_m['Dia'] == dia]\n",
    "#Cambiamos el sistema de coordenadas\n",
    "\n",
    "#Primero, creamos la función que nos va a cambiar la proyección\n",
    "proyectadas = Transformer.from_crs('EPSG:4326' , 'EPSG:3116')\n",
    "\n",
    "#Segundo, Aplicamos la proyección\n",
    "\n",
    "cartesian = proyectadas.transform(df_d['Latitud'].to_numpy(), df_d['Longitud'].to_numpy())\n",
    "#Añadimos las nuevas columnas\n",
    "df_d['x'] = cartesian[1]\n",
    "df_d['y'] = cartesian[0]\n",
    "plt.scatter(df_d.x, df_d.y, s = 2+df_d.Valor*5, c = df_d.Valor)\n",
    "df_d = df_d.reset_index()\n",
    "df_d = df_d.drop(['index','Unnamed: 0'] , axis=1)\n",
    "df_d"
   ]
  },
  {
   "cell_type": "code",
   "execution_count": 4,
   "metadata": {},
   "outputs": [],
   "source": [
    "min_y = df_d.y.min()\n",
    "max_y = df_d.y.max()\n",
    "\n",
    "min_x = df_d.x.min()\n",
    "max_x = df_d.x.max()\n",
    "\n",
    "grid_x = np.linspace(min_x, max_x, num = 60, endpoint= False)\n",
    "grid_y = np.linspace(min_y, max_y, num = 60, endpoint= False)\n",
    "\n",
    "#Creo que puedo reemplazar esto por un doble for\n",
    "p_x,p_y = np.meshgrid(grid_x,grid_y)"
   ]
  },
  {
   "cell_type": "code",
   "execution_count": 5,
   "metadata": {},
   "outputs": [
    {
     "name": "stdout",
     "output_type": "stream",
     "text": [
      "974053.0730076038 937506.608804111\n"
     ]
    }
   ],
   "source": [
    "#Ahora, para un punto x,y calculamos la diferencia de distancia con todos los puntos y seleccionamos las tres mas relevantes:\n",
    "\n",
    "v_x = grid_x[0]\n",
    "v_y = grid_y[0]\n",
    "print(v_x, v_y)"
   ]
  },
  {
   "cell_type": "code",
   "execution_count": 6,
   "metadata": {},
   "outputs": [],
   "source": [
    "#Aqui calculamos explicitamente las distancias verticales y horizontales\n",
    "\n",
    "def metodo_idw(v_x, v_y, dataframe):\n",
    "    distancias = []\n",
    "    for k in range(len(dataframe)):\n",
    "        distancias.append( np.sqrt((dataframe.iloc[k]['x'] - v_x)**2 + (dataframe.iloc[k]['y'] - v_y)**2)  )\n",
    "\n",
    "    data_idw = pd.DataFrame( distancias)\n",
    "    data_idw['Lluvia'] = dataframe['Valor']\n",
    "    data_idw.rename(columns = {0:'Distancia'}, inplace = True)\n",
    "\n",
    "    by_distance = data_idw.sort_values(by ='Distancia')\n",
    "    n = 0.0\n",
    "    z = 0.0\n",
    "    d = 0.0\n",
    "\n",
    "    if by_distance.iloc[0]['Distancia'] != 0:\n",
    "        for v in range(4):\n",
    "            i_d =  1/(by_distance.iloc[v]['Distancia'])**2\n",
    "            d += i_d\n",
    "            n += by_distance.iloc[v]['Lluvia']/(by_distance.iloc[v]['Distancia'])**2\n",
    "        z = n/d\n",
    "    else:\n",
    "        z = by_distance.iloc[0]['Lluvia']\n",
    "    return z"
   ]
  },
  {
   "cell_type": "code",
   "execution_count": 7,
   "metadata": {},
   "outputs": [
    {
     "data": {
      "text/plain": [
       "2.9"
      ]
     },
     "execution_count": 7,
     "metadata": {},
     "output_type": "execute_result"
    }
   ],
   "source": [
    "metodo_idw(v_x, v_y, df_d)\n",
    "#funciona"
   ]
  },
  {
   "cell_type": "code",
   "execution_count": 16,
   "metadata": {},
   "outputs": [],
   "source": [
    "#Ahora finalmente aplicamos el método IDW para toda la malla de puntos\n",
    "z_idw = []\n",
    "for xx in np.nditer(grid_x):\n",
    "    for yy in np.nditer(grid_y):\n",
    "        z_idw.append(metodo_idw(xx,yy, df_d))\n"
   ]
  },
  {
   "cell_type": "code",
   "execution_count": 29,
   "metadata": {},
   "outputs": [
    {
     "data": {
      "image/png": "[encoded data removed]",
      "text/plain": [
       "<Figure size 432x288 with 2 Axes>"
      ]
     },
     "metadata": {
      "needs_background": "light"
     },
     "output_type": "display_data"
    }
   ],
   "source": [
    "z_v = np.array(z_idw)\n",
    "z_v =z_v.reshape((60,60))\n",
    "plot(df_d['y'],df_d['x'],df_d['Valor'],z_v)"
   ]
  },
  {
   "cell_type": "code",
   "execution_count": null,
   "metadata": {},
   "outputs": [],
   "source": []
  },
  {
   "cell_type": "code",
   "execution_count": 10,
   "metadata": {},
   "outputs": [],
   "source": [
    "##INTERPOLACIÓN RBF\n",
    "\n",
    "from scipy.interpolate import Rbf"
   ]
  },
  {
   "cell_type": "code",
   "execution_count": 11,
   "metadata": {},
   "outputs": [],
   "source": [
    "xi, yi = p_x.flatten(), p_y.flatten()"
   ]
  },
  {
   "cell_type": "code",
   "execution_count": 12,
   "metadata": {},
   "outputs": [],
   "source": [
    "interp = Rbf(df_d['x'], df_d['y'] , df_d['Valor'], function='linear')\n",
    "grid1 = interp(xi, yi)\n",
    "grid1 = grid1.reshape((60, 60))"
   ]
  },
  {
   "cell_type": "code",
   "execution_count": 27,
   "metadata": {},
   "outputs": [],
   "source": [
    "def plot(x,y,z,grid):\n",
    "    plt.figure()\n",
    "    plt.imshow(grid, extent=(x.min(), x.max(), y.max(), y.min()))\n",
    "    plt.scatter(x,y,c=z)\n",
    "    plt.colorbar()"
   ]
  },
  {
   "cell_type": "code",
   "execution_count": 28,
   "metadata": {},
   "outputs": [
    {
     "data": {
      "image/png": "[encoded data removed]",
      "text/plain": [
       "<Figure size 432x288 with 2 Axes>"
      ]
     },
     "metadata": {
      "needs_background": "light"
     },
     "output_type": "display_data"
    }
   ],
   "source": [
    "plot(df_d['x'],df_d['y'],df_d['Valor'],grid1)"
   ]
  },
  {
   "cell_type": "code",
   "execution_count": 23,
   "metadata": {},
   "outputs": [
    {
     "data": {
      "text/plain": [
       "array(2.39998373)"
      ]
     },
     "execution_count": 23,
     "metadata": {},
     "output_type": "execute_result"
    }
   ],
   "source": [
    "valid = interp(9.923956e+05, 9.531196e+05)\n",
    "valid"
   ]
  },
  {
   "cell_type": "code",
   "execution_count": null,
   "metadata": {},
   "outputs": [],
   "source": []
  },
  {
   "cell_type": "code",
   "execution_count": null,
   "metadata": {},
   "outputs": [],
   "source": []
  }
 ],
 "metadata": {
  "kernelspec": {
   "display_name": "Python 3",
   "language": "python",
   "name": "python3"
  },
  "language_info": {
   "codemirror_mode": {
    "name": "ipython",
    "version": 3
   },
   "file_extension": ".py",
   "mimetype": "text/x-python",
   "name": "python",
   "nbconvert_exporter": "python",
   "pygments_lexer": "ipython3",
   "version": "3.8.5"
  }
 },
 "nbformat": 4,
 "nbformat_minor": 4
}
