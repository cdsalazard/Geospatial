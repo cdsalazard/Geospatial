{
 "cells": [
  {
   "cell_type": "code",
   "execution_count": 2,
   "metadata": {},
   "outputs": [],
   "source": [
    "import pandas as pd\n",
    "import re\n",
    "import os\n",
    "from os import path\n",
    "import matplotlib.pyplot as plt"
   ]
  },
  {
   "cell_type": "code",
   "execution_count": 3,
   "metadata": {},
   "outputs": [],
   "source": [
    "datosIdeam = pd.read_csv(\"Bog_lluv_hora_IDEAM_corregido.csv\")\n",
    "datosIdiger = pd.read_csv(\"Bog_lluv_hora_IDIGER.csv\")"
   ]
  },
  {
   "cell_type": "code",
   "execution_count": 9,
   "metadata": {},
   "outputs": [
    {
     "data": {
      "text/html": [
       "<div>\n",
       "<style scoped>\n",
       "    .dataframe tbody tr th:only-of-type {\n",
       "        vertical-align: middle;\n",
       "    }\n",
       "\n",
       "    .dataframe tbody tr th {\n",
       "        vertical-align: top;\n",
       "    }\n",
       "\n",
       "    .dataframe thead th {\n",
       "        text-align: right;\n",
       "    }\n",
       "</style>\n",
       "<table border=\"1\" class=\"dataframe\">\n",
       "  <thead>\n",
       "    <tr style=\"text-align: right;\">\n",
       "      <th></th>\n",
       "      <th>Fecha</th>\n",
       "      <th>Valor</th>\n",
       "      <th>CODIGO</th>\n",
       "      <th>LATITUD</th>\n",
       "      <th>LONGITUD</th>\n",
       "    </tr>\n",
       "  </thead>\n",
       "  <tbody>\n",
       "    <tr>\n",
       "      <th>0</th>\n",
       "      <td>2020-01-11 07:00:00</td>\n",
       "      <td>0.0</td>\n",
       "      <td>21206260</td>\n",
       "      <td>4.798639</td>\n",
       "      <td>-74.049722</td>\n",
       "    </tr>\n",
       "    <tr>\n",
       "      <th>1</th>\n",
       "      <td>2020-01-11 08:00:00</td>\n",
       "      <td>0.0</td>\n",
       "      <td>21206260</td>\n",
       "      <td>4.798639</td>\n",
       "      <td>-74.049722</td>\n",
       "    </tr>\n",
       "    <tr>\n",
       "      <th>2</th>\n",
       "      <td>2020-01-11 09:00:00</td>\n",
       "      <td>0.0</td>\n",
       "      <td>21206260</td>\n",
       "      <td>4.798639</td>\n",
       "      <td>-74.049722</td>\n",
       "    </tr>\n",
       "    <tr>\n",
       "      <th>3</th>\n",
       "      <td>2020-01-11 10:00:00</td>\n",
       "      <td>0.0</td>\n",
       "      <td>21206260</td>\n",
       "      <td>4.798639</td>\n",
       "      <td>-74.049722</td>\n",
       "    </tr>\n",
       "    <tr>\n",
       "      <th>4</th>\n",
       "      <td>2020-01-11 11:00:00</td>\n",
       "      <td>0.0</td>\n",
       "      <td>21206260</td>\n",
       "      <td>4.798639</td>\n",
       "      <td>-74.049722</td>\n",
       "    </tr>\n",
       "    <tr>\n",
       "      <th>...</th>\n",
       "      <td>...</td>\n",
       "      <td>...</td>\n",
       "      <td>...</td>\n",
       "      <td>...</td>\n",
       "      <td>...</td>\n",
       "    </tr>\n",
       "    <tr>\n",
       "      <th>811581</th>\n",
       "      <td>2022-06-01 01:00:00</td>\n",
       "      <td>0.0</td>\n",
       "      <td>21205710</td>\n",
       "      <td>4.669333</td>\n",
       "      <td>-74.102667</td>\n",
       "    </tr>\n",
       "    <tr>\n",
       "      <th>811582</th>\n",
       "      <td>2022-06-01 02:00:00</td>\n",
       "      <td>0.0</td>\n",
       "      <td>21205710</td>\n",
       "      <td>4.669333</td>\n",
       "      <td>-74.102667</td>\n",
       "    </tr>\n",
       "    <tr>\n",
       "      <th>811583</th>\n",
       "      <td>2022-06-01 03:00:00</td>\n",
       "      <td>0.0</td>\n",
       "      <td>21205710</td>\n",
       "      <td>4.669333</td>\n",
       "      <td>-74.102667</td>\n",
       "    </tr>\n",
       "    <tr>\n",
       "      <th>811584</th>\n",
       "      <td>2022-06-01 04:00:00</td>\n",
       "      <td>0.0</td>\n",
       "      <td>21205710</td>\n",
       "      <td>4.669333</td>\n",
       "      <td>-74.102667</td>\n",
       "    </tr>\n",
       "    <tr>\n",
       "      <th>811585</th>\n",
       "      <td>2022-06-01 05:00:00</td>\n",
       "      <td>0.0</td>\n",
       "      <td>21205710</td>\n",
       "      <td>4.669333</td>\n",
       "      <td>-74.102667</td>\n",
       "    </tr>\n",
       "  </tbody>\n",
       "</table>\n",
       "<p>811586 rows × 5 columns</p>\n",
       "</div>"
      ],
      "text/plain": [
       "                      Fecha  Valor    CODIGO   LATITUD   LONGITUD\n",
       "0       2020-01-11 07:00:00    0.0  21206260  4.798639 -74.049722\n",
       "1       2020-01-11 08:00:00    0.0  21206260  4.798639 -74.049722\n",
       "2       2020-01-11 09:00:00    0.0  21206260  4.798639 -74.049722\n",
       "3       2020-01-11 10:00:00    0.0  21206260  4.798639 -74.049722\n",
       "4       2020-01-11 11:00:00    0.0  21206260  4.798639 -74.049722\n",
       "...                     ...    ...       ...       ...        ...\n",
       "811581  2022-06-01 01:00:00    0.0  21205710  4.669333 -74.102667\n",
       "811582  2022-06-01 02:00:00    0.0  21205710  4.669333 -74.102667\n",
       "811583  2022-06-01 03:00:00    0.0  21205710  4.669333 -74.102667\n",
       "811584  2022-06-01 04:00:00    0.0  21205710  4.669333 -74.102667\n",
       "811585  2022-06-01 05:00:00    0.0  21205710  4.669333 -74.102667\n",
       "\n",
       "[811586 rows x 5 columns]"
      ]
     },
     "execution_count": 9,
     "metadata": {},
     "output_type": "execute_result"
    }
   ],
   "source": [
    "len(datosIdeam)\n",
    "datosIdeam"
   ]
  },
  {
   "cell_type": "code",
   "execution_count": 5,
   "metadata": {},
   "outputs": [
    {
     "data": {
      "text/html": [
       "<div>\n",
       "<style scoped>\n",
       "    .dataframe tbody tr th:only-of-type {\n",
       "        vertical-align: middle;\n",
       "    }\n",
       "\n",
       "    .dataframe tbody tr th {\n",
       "        vertical-align: top;\n",
       "    }\n",
       "\n",
       "    .dataframe thead th {\n",
       "        text-align: right;\n",
       "    }\n",
       "</style>\n",
       "<table border=\"1\" class=\"dataframe\">\n",
       "  <thead>\n",
       "    <tr style=\"text-align: right;\">\n",
       "      <th></th>\n",
       "      <th>Unnamed: 0</th>\n",
       "      <th>IDESTACION</th>\n",
       "      <th>IDSENSOR</th>\n",
       "      <th>FECHALECTURA</th>\n",
       "      <th>VALORLECTURA</th>\n",
       "      <th>LATITUD</th>\n",
       "      <th>LONGITUD</th>\n",
       "    </tr>\n",
       "  </thead>\n",
       "  <tbody>\n",
       "    <tr>\n",
       "      <th>0</th>\n",
       "      <td>0</td>\n",
       "      <td>21ANGELES</td>\n",
       "      <td>PRPC1MIN</td>\n",
       "      <td>2015-09-29 00:00:00</td>\n",
       "      <td>0.0</td>\n",
       "      <td>4.749234</td>\n",
       "      <td>-74.08073</td>\n",
       "    </tr>\n",
       "    <tr>\n",
       "      <th>1</th>\n",
       "      <td>1</td>\n",
       "      <td>21ANGELES</td>\n",
       "      <td>PRPC1MIN</td>\n",
       "      <td>2015-09-29 01:00:00</td>\n",
       "      <td>0.0</td>\n",
       "      <td>4.749234</td>\n",
       "      <td>-74.08073</td>\n",
       "    </tr>\n",
       "    <tr>\n",
       "      <th>2</th>\n",
       "      <td>2</td>\n",
       "      <td>21ANGELES</td>\n",
       "      <td>PRPC1MIN</td>\n",
       "      <td>2015-09-29 02:00:00</td>\n",
       "      <td>0.0</td>\n",
       "      <td>4.749234</td>\n",
       "      <td>-74.08073</td>\n",
       "    </tr>\n",
       "    <tr>\n",
       "      <th>3</th>\n",
       "      <td>3</td>\n",
       "      <td>21ANGELES</td>\n",
       "      <td>PRPC1MIN</td>\n",
       "      <td>2015-09-29 03:00:00</td>\n",
       "      <td>0.0</td>\n",
       "      <td>4.749234</td>\n",
       "      <td>-74.08073</td>\n",
       "    </tr>\n",
       "    <tr>\n",
       "      <th>4</th>\n",
       "      <td>4</td>\n",
       "      <td>21ANGELES</td>\n",
       "      <td>PRPC1MIN</td>\n",
       "      <td>2015-09-29 04:00:00</td>\n",
       "      <td>0.0</td>\n",
       "      <td>4.749234</td>\n",
       "      <td>-74.08073</td>\n",
       "    </tr>\n",
       "  </tbody>\n",
       "</table>\n",
       "</div>"
      ],
      "text/plain": [
       "   Unnamed: 0 IDESTACION  IDSENSOR         FECHALECTURA  VALORLECTURA  \\\n",
       "0           0  21ANGELES  PRPC1MIN  2015-09-29 00:00:00           0.0   \n",
       "1           1  21ANGELES  PRPC1MIN  2015-09-29 01:00:00           0.0   \n",
       "2           2  21ANGELES  PRPC1MIN  2015-09-29 02:00:00           0.0   \n",
       "3           3  21ANGELES  PRPC1MIN  2015-09-29 03:00:00           0.0   \n",
       "4           4  21ANGELES  PRPC1MIN  2015-09-29 04:00:00           0.0   \n",
       "\n",
       "    LATITUD  LONGITUD  \n",
       "0  4.749234 -74.08073  \n",
       "1  4.749234 -74.08073  \n",
       "2  4.749234 -74.08073  \n",
       "3  4.749234 -74.08073  \n",
       "4  4.749234 -74.08073  "
      ]
     },
     "execution_count": 5,
     "metadata": {},
     "output_type": "execute_result"
    }
   ],
   "source": [
    "datosIdiger.head()"
   ]
  },
  {
   "cell_type": "code",
   "execution_count": 12,
   "metadata": {},
   "outputs": [],
   "source": [
    "df = pd.DataFrame(columns =['ESTACION', 'FECHA', 'VALOR', 'LATITUD', 'LONGITUD'])"
   ]
  },
  {
   "cell_type": "code",
   "execution_count": 11,
   "metadata": {},
   "outputs": [
    {
     "ename": "KeyError",
     "evalue": "\"['Unnamed: 0'] not found in axis\"",
     "output_type": "error",
     "traceback": [
      "\u001b[1;31m---------------------------------------------------------------------------\u001b[0m",
      "\u001b[1;31mKeyError\u001b[0m                                  Traceback (most recent call last)",
      "\u001b[1;32m<ipython-input-11-06ca29a3e2fa>\u001b[0m in \u001b[0;36m<module>\u001b[1;34m\u001b[0m\n\u001b[1;32m----> 1\u001b[1;33m \u001b[0mdatosIdeam\u001b[0m \u001b[1;33m=\u001b[0m  \u001b[0mdatosIdeam\u001b[0m\u001b[1;33m.\u001b[0m\u001b[0mdrop\u001b[0m\u001b[1;33m(\u001b[0m\u001b[1;34m'Unnamed: 0'\u001b[0m\u001b[1;33m,\u001b[0m \u001b[0maxis\u001b[0m \u001b[1;33m=\u001b[0m\u001b[1;36m1\u001b[0m\u001b[1;33m)\u001b[0m\u001b[1;33m\u001b[0m\u001b[1;33m\u001b[0m\u001b[0m\n\u001b[0m",
      "\u001b[1;32mC:\\Program Files\\Anaconda3\\lib\\site-packages\\pandas\\core\\frame.py\u001b[0m in \u001b[0;36mdrop\u001b[1;34m(self, labels, axis, index, columns, level, inplace, errors)\u001b[0m\n\u001b[0;32m   4161\u001b[0m                 \u001b[0mweight\u001b[0m  \u001b[1;36m1.0\u001b[0m     \u001b[1;36m0.8\u001b[0m\u001b[1;33m\u001b[0m\u001b[1;33m\u001b[0m\u001b[0m\n\u001b[0;32m   4162\u001b[0m         \"\"\"\n\u001b[1;32m-> 4163\u001b[1;33m         return super().drop(\n\u001b[0m\u001b[0;32m   4164\u001b[0m             \u001b[0mlabels\u001b[0m\u001b[1;33m=\u001b[0m\u001b[0mlabels\u001b[0m\u001b[1;33m,\u001b[0m\u001b[1;33m\u001b[0m\u001b[1;33m\u001b[0m\u001b[0m\n\u001b[0;32m   4165\u001b[0m             \u001b[0maxis\u001b[0m\u001b[1;33m=\u001b[0m\u001b[0maxis\u001b[0m\u001b[1;33m,\u001b[0m\u001b[1;33m\u001b[0m\u001b[1;33m\u001b[0m\u001b[0m\n",
      "\u001b[1;32mC:\\Program Files\\Anaconda3\\lib\\site-packages\\pandas\\core\\generic.py\u001b[0m in \u001b[0;36mdrop\u001b[1;34m(self, labels, axis, index, columns, level, inplace, errors)\u001b[0m\n\u001b[0;32m   3885\u001b[0m         \u001b[1;32mfor\u001b[0m \u001b[0maxis\u001b[0m\u001b[1;33m,\u001b[0m \u001b[0mlabels\u001b[0m \u001b[1;32min\u001b[0m \u001b[0maxes\u001b[0m\u001b[1;33m.\u001b[0m\u001b[0mitems\u001b[0m\u001b[1;33m(\u001b[0m\u001b[1;33m)\u001b[0m\u001b[1;33m:\u001b[0m\u001b[1;33m\u001b[0m\u001b[1;33m\u001b[0m\u001b[0m\n\u001b[0;32m   3886\u001b[0m             \u001b[1;32mif\u001b[0m \u001b[0mlabels\u001b[0m \u001b[1;32mis\u001b[0m \u001b[1;32mnot\u001b[0m \u001b[1;32mNone\u001b[0m\u001b[1;33m:\u001b[0m\u001b[1;33m\u001b[0m\u001b[1;33m\u001b[0m\u001b[0m\n\u001b[1;32m-> 3887\u001b[1;33m                 \u001b[0mobj\u001b[0m \u001b[1;33m=\u001b[0m \u001b[0mobj\u001b[0m\u001b[1;33m.\u001b[0m\u001b[0m_drop_axis\u001b[0m\u001b[1;33m(\u001b[0m\u001b[0mlabels\u001b[0m\u001b[1;33m,\u001b[0m \u001b[0maxis\u001b[0m\u001b[1;33m,\u001b[0m \u001b[0mlevel\u001b[0m\u001b[1;33m=\u001b[0m\u001b[0mlevel\u001b[0m\u001b[1;33m,\u001b[0m \u001b[0merrors\u001b[0m\u001b[1;33m=\u001b[0m\u001b[0merrors\u001b[0m\u001b[1;33m)\u001b[0m\u001b[1;33m\u001b[0m\u001b[1;33m\u001b[0m\u001b[0m\n\u001b[0m\u001b[0;32m   3888\u001b[0m \u001b[1;33m\u001b[0m\u001b[0m\n\u001b[0;32m   3889\u001b[0m         \u001b[1;32mif\u001b[0m \u001b[0minplace\u001b[0m\u001b[1;33m:\u001b[0m\u001b[1;33m\u001b[0m\u001b[1;33m\u001b[0m\u001b[0m\n",
      "\u001b[1;32mC:\\Program Files\\Anaconda3\\lib\\site-packages\\pandas\\core\\generic.py\u001b[0m in \u001b[0;36m_drop_axis\u001b[1;34m(self, labels, axis, level, errors)\u001b[0m\n\u001b[0;32m   3919\u001b[0m                 \u001b[0mnew_axis\u001b[0m \u001b[1;33m=\u001b[0m \u001b[0maxis\u001b[0m\u001b[1;33m.\u001b[0m\u001b[0mdrop\u001b[0m\u001b[1;33m(\u001b[0m\u001b[0mlabels\u001b[0m\u001b[1;33m,\u001b[0m \u001b[0mlevel\u001b[0m\u001b[1;33m=\u001b[0m\u001b[0mlevel\u001b[0m\u001b[1;33m,\u001b[0m \u001b[0merrors\u001b[0m\u001b[1;33m=\u001b[0m\u001b[0merrors\u001b[0m\u001b[1;33m)\u001b[0m\u001b[1;33m\u001b[0m\u001b[1;33m\u001b[0m\u001b[0m\n\u001b[0;32m   3920\u001b[0m             \u001b[1;32melse\u001b[0m\u001b[1;33m:\u001b[0m\u001b[1;33m\u001b[0m\u001b[1;33m\u001b[0m\u001b[0m\n\u001b[1;32m-> 3921\u001b[1;33m                 \u001b[0mnew_axis\u001b[0m \u001b[1;33m=\u001b[0m \u001b[0maxis\u001b[0m\u001b[1;33m.\u001b[0m\u001b[0mdrop\u001b[0m\u001b[1;33m(\u001b[0m\u001b[0mlabels\u001b[0m\u001b[1;33m,\u001b[0m \u001b[0merrors\u001b[0m\u001b[1;33m=\u001b[0m\u001b[0merrors\u001b[0m\u001b[1;33m)\u001b[0m\u001b[1;33m\u001b[0m\u001b[1;33m\u001b[0m\u001b[0m\n\u001b[0m\u001b[0;32m   3922\u001b[0m             \u001b[0mresult\u001b[0m \u001b[1;33m=\u001b[0m \u001b[0mself\u001b[0m\u001b[1;33m.\u001b[0m\u001b[0mreindex\u001b[0m\u001b[1;33m(\u001b[0m\u001b[1;33m**\u001b[0m\u001b[1;33m{\u001b[0m\u001b[0maxis_name\u001b[0m\u001b[1;33m:\u001b[0m \u001b[0mnew_axis\u001b[0m\u001b[1;33m}\u001b[0m\u001b[1;33m)\u001b[0m\u001b[1;33m\u001b[0m\u001b[1;33m\u001b[0m\u001b[0m\n\u001b[0;32m   3923\u001b[0m \u001b[1;33m\u001b[0m\u001b[0m\n",
      "\u001b[1;32mC:\\Program Files\\Anaconda3\\lib\\site-packages\\pandas\\core\\indexes\\base.py\u001b[0m in \u001b[0;36mdrop\u001b[1;34m(self, labels, errors)\u001b[0m\n\u001b[0;32m   5280\u001b[0m         \u001b[1;32mif\u001b[0m \u001b[0mmask\u001b[0m\u001b[1;33m.\u001b[0m\u001b[0many\u001b[0m\u001b[1;33m(\u001b[0m\u001b[1;33m)\u001b[0m\u001b[1;33m:\u001b[0m\u001b[1;33m\u001b[0m\u001b[1;33m\u001b[0m\u001b[0m\n\u001b[0;32m   5281\u001b[0m             \u001b[1;32mif\u001b[0m \u001b[0merrors\u001b[0m \u001b[1;33m!=\u001b[0m \u001b[1;34m\"ignore\"\u001b[0m\u001b[1;33m:\u001b[0m\u001b[1;33m\u001b[0m\u001b[1;33m\u001b[0m\u001b[0m\n\u001b[1;32m-> 5282\u001b[1;33m                 \u001b[1;32mraise\u001b[0m \u001b[0mKeyError\u001b[0m\u001b[1;33m(\u001b[0m\u001b[1;34mf\"{labels[mask]} not found in axis\"\u001b[0m\u001b[1;33m)\u001b[0m\u001b[1;33m\u001b[0m\u001b[1;33m\u001b[0m\u001b[0m\n\u001b[0m\u001b[0;32m   5283\u001b[0m             \u001b[0mindexer\u001b[0m \u001b[1;33m=\u001b[0m \u001b[0mindexer\u001b[0m\u001b[1;33m[\u001b[0m\u001b[1;33m~\u001b[0m\u001b[0mmask\u001b[0m\u001b[1;33m]\u001b[0m\u001b[1;33m\u001b[0m\u001b[1;33m\u001b[0m\u001b[0m\n\u001b[0;32m   5284\u001b[0m         \u001b[1;32mreturn\u001b[0m \u001b[0mself\u001b[0m\u001b[1;33m.\u001b[0m\u001b[0mdelete\u001b[0m\u001b[1;33m(\u001b[0m\u001b[0mindexer\u001b[0m\u001b[1;33m)\u001b[0m\u001b[1;33m\u001b[0m\u001b[1;33m\u001b[0m\u001b[0m\n",
      "\u001b[1;31mKeyError\u001b[0m: \"['Unnamed: 0'] not found in axis\""
     ]
    }
   ],
   "source": [
    "datosIdeam =  datosIdeam.drop('Unnamed: 0', axis =1)"
   ]
  },
  {
   "cell_type": "code",
   "execution_count": 13,
   "metadata": {},
   "outputs": [],
   "source": [
    "IDEAM = pd.DataFrame()\n",
    "IDIGER = pd.DataFrame()"
   ]
  },
  {
   "cell_type": "code",
   "execution_count": 14,
   "metadata": {},
   "outputs": [],
   "source": [
    "IDEAM[['ESTACION', 'FECHA', 'VALOR', 'LATITUD', 'LONGITUD']] = datosIdeam[['CODIGO','Fecha', 'Valor', 'LATITUD', 'LONGITUD']]"
   ]
  },
  {
   "cell_type": "code",
   "execution_count": 15,
   "metadata": {},
   "outputs": [],
   "source": [
    "IDIGER[['ESTACION', 'FECHA', 'VALOR', 'LATITUD', 'LONGITUD']] = datosIdiger[['IDESTACION','FECHALECTURA', 'VALORLECTURA', 'LATITUD', 'LONGITUD']]"
   ]
  },
  {
   "cell_type": "code",
   "execution_count": 16,
   "metadata": {},
   "outputs": [
    {
     "data": {
      "text/plain": [
       "1011411"
      ]
     },
     "execution_count": 16,
     "metadata": {},
     "output_type": "execute_result"
    }
   ],
   "source": [
    "len(IDIGER)"
   ]
  },
  {
   "cell_type": "code",
   "execution_count": 17,
   "metadata": {},
   "outputs": [
    {
     "data": {
      "text/plain": [
       "811586"
      ]
     },
     "execution_count": 17,
     "metadata": {},
     "output_type": "execute_result"
    }
   ],
   "source": [
    "len(IDEAM)"
   ]
  },
  {
   "cell_type": "code",
   "execution_count": 18,
   "metadata": {},
   "outputs": [
    {
     "data": {
      "text/plain": [
       "1011411"
      ]
     },
     "execution_count": 18,
     "metadata": {},
     "output_type": "execute_result"
    }
   ],
   "source": [
    "len(datosIdiger)"
   ]
  },
  {
   "cell_type": "code",
   "execution_count": 19,
   "metadata": {},
   "outputs": [
    {
     "data": {
      "text/plain": [
       "811586"
      ]
     },
     "execution_count": 19,
     "metadata": {},
     "output_type": "execute_result"
    }
   ],
   "source": [
    "len(datosIdeam)"
   ]
  },
  {
   "cell_type": "code",
   "execution_count": 20,
   "metadata": {},
   "outputs": [],
   "source": [
    "df = df.append(IDEAM, ignore_index=True)"
   ]
  },
  {
   "cell_type": "code",
   "execution_count": 21,
   "metadata": {},
   "outputs": [],
   "source": [
    "df = df.append(IDIGER, ignore_index=True)"
   ]
  },
  {
   "cell_type": "code",
   "execution_count": 22,
   "metadata": {},
   "outputs": [
    {
     "data": {
      "text/html": [
       "<div>\n",
       "<style scoped>\n",
       "    .dataframe tbody tr th:only-of-type {\n",
       "        vertical-align: middle;\n",
       "    }\n",
       "\n",
       "    .dataframe tbody tr th {\n",
       "        vertical-align: top;\n",
       "    }\n",
       "\n",
       "    .dataframe thead th {\n",
       "        text-align: right;\n",
       "    }\n",
       "</style>\n",
       "<table border=\"1\" class=\"dataframe\">\n",
       "  <thead>\n",
       "    <tr style=\"text-align: right;\">\n",
       "      <th></th>\n",
       "      <th>ESTACION</th>\n",
       "      <th>FECHA</th>\n",
       "      <th>VALOR</th>\n",
       "      <th>LATITUD</th>\n",
       "      <th>LONGITUD</th>\n",
       "    </tr>\n",
       "  </thead>\n",
       "  <tbody>\n",
       "    <tr>\n",
       "      <th>0</th>\n",
       "      <td>21206260</td>\n",
       "      <td>2020-01-11 07:00:00</td>\n",
       "      <td>0.0</td>\n",
       "      <td>4.798639</td>\n",
       "      <td>-74.049722</td>\n",
       "    </tr>\n",
       "    <tr>\n",
       "      <th>1</th>\n",
       "      <td>21206260</td>\n",
       "      <td>2020-01-11 08:00:00</td>\n",
       "      <td>0.0</td>\n",
       "      <td>4.798639</td>\n",
       "      <td>-74.049722</td>\n",
       "    </tr>\n",
       "    <tr>\n",
       "      <th>2</th>\n",
       "      <td>21206260</td>\n",
       "      <td>2020-01-11 09:00:00</td>\n",
       "      <td>0.0</td>\n",
       "      <td>4.798639</td>\n",
       "      <td>-74.049722</td>\n",
       "    </tr>\n",
       "    <tr>\n",
       "      <th>3</th>\n",
       "      <td>21206260</td>\n",
       "      <td>2020-01-11 10:00:00</td>\n",
       "      <td>0.0</td>\n",
       "      <td>4.798639</td>\n",
       "      <td>-74.049722</td>\n",
       "    </tr>\n",
       "    <tr>\n",
       "      <th>4</th>\n",
       "      <td>21206260</td>\n",
       "      <td>2020-01-11 11:00:00</td>\n",
       "      <td>0.0</td>\n",
       "      <td>4.798639</td>\n",
       "      <td>-74.049722</td>\n",
       "    </tr>\n",
       "    <tr>\n",
       "      <th>...</th>\n",
       "      <td>...</td>\n",
       "      <td>...</td>\n",
       "      <td>...</td>\n",
       "      <td>...</td>\n",
       "      <td>...</td>\n",
       "    </tr>\n",
       "    <tr>\n",
       "      <th>1822992</th>\n",
       "      <td>UNION-COLOMBIA</td>\n",
       "      <td>2020-12-31 19:00:00</td>\n",
       "      <td>0.0</td>\n",
       "      <td>4.159470</td>\n",
       "      <td>-74.027520</td>\n",
       "    </tr>\n",
       "    <tr>\n",
       "      <th>1822993</th>\n",
       "      <td>UNION-COLOMBIA</td>\n",
       "      <td>2020-12-31 20:00:00</td>\n",
       "      <td>0.0</td>\n",
       "      <td>4.159470</td>\n",
       "      <td>-74.027520</td>\n",
       "    </tr>\n",
       "    <tr>\n",
       "      <th>1822994</th>\n",
       "      <td>UNION-COLOMBIA</td>\n",
       "      <td>2020-12-31 21:00:00</td>\n",
       "      <td>0.0</td>\n",
       "      <td>4.159470</td>\n",
       "      <td>-74.027520</td>\n",
       "    </tr>\n",
       "    <tr>\n",
       "      <th>1822995</th>\n",
       "      <td>UNION-COLOMBIA</td>\n",
       "      <td>2020-12-31 22:00:00</td>\n",
       "      <td>0.0</td>\n",
       "      <td>4.159470</td>\n",
       "      <td>-74.027520</td>\n",
       "    </tr>\n",
       "    <tr>\n",
       "      <th>1822996</th>\n",
       "      <td>UNION-COLOMBIA</td>\n",
       "      <td>2020-12-31 23:00:00</td>\n",
       "      <td>0.0</td>\n",
       "      <td>4.159470</td>\n",
       "      <td>-74.027520</td>\n",
       "    </tr>\n",
       "  </tbody>\n",
       "</table>\n",
       "<p>1822997 rows × 5 columns</p>\n",
       "</div>"
      ],
      "text/plain": [
       "               ESTACION                FECHA  VALOR   LATITUD   LONGITUD\n",
       "0              21206260  2020-01-11 07:00:00    0.0  4.798639 -74.049722\n",
       "1              21206260  2020-01-11 08:00:00    0.0  4.798639 -74.049722\n",
       "2              21206260  2020-01-11 09:00:00    0.0  4.798639 -74.049722\n",
       "3              21206260  2020-01-11 10:00:00    0.0  4.798639 -74.049722\n",
       "4              21206260  2020-01-11 11:00:00    0.0  4.798639 -74.049722\n",
       "...                 ...                  ...    ...       ...        ...\n",
       "1822992  UNION-COLOMBIA  2020-12-31 19:00:00    0.0  4.159470 -74.027520\n",
       "1822993  UNION-COLOMBIA  2020-12-31 20:00:00    0.0  4.159470 -74.027520\n",
       "1822994  UNION-COLOMBIA  2020-12-31 21:00:00    0.0  4.159470 -74.027520\n",
       "1822995  UNION-COLOMBIA  2020-12-31 22:00:00    0.0  4.159470 -74.027520\n",
       "1822996  UNION-COLOMBIA  2020-12-31 23:00:00    0.0  4.159470 -74.027520\n",
       "\n",
       "[1822997 rows x 5 columns]"
      ]
     },
     "execution_count": 22,
     "metadata": {},
     "output_type": "execute_result"
    }
   ],
   "source": [
    "df"
   ]
  },
  {
   "cell_type": "code",
   "execution_count": 23,
   "metadata": {},
   "outputs": [],
   "source": [
    "df.to_csv('Bog_lluv_hora_IDEAM_IDIGER_corregido.csv')"
   ]
  },
  {
   "cell_type": "code",
   "execution_count": 24,
   "metadata": {},
   "outputs": [
    {
     "data": {
      "text/html": [
       "<div>\n",
       "<style scoped>\n",
       "    .dataframe tbody tr th:only-of-type {\n",
       "        vertical-align: middle;\n",
       "    }\n",
       "\n",
       "    .dataframe tbody tr th {\n",
       "        vertical-align: top;\n",
       "    }\n",
       "\n",
       "    .dataframe thead th {\n",
       "        text-align: right;\n",
       "    }\n",
       "</style>\n",
       "<table border=\"1\" class=\"dataframe\">\n",
       "  <thead>\n",
       "    <tr style=\"text-align: right;\">\n",
       "      <th></th>\n",
       "      <th>ESTACION</th>\n",
       "      <th>FECHA</th>\n",
       "      <th>VALOR</th>\n",
       "      <th>LATITUD</th>\n",
       "      <th>LONGITUD</th>\n",
       "    </tr>\n",
       "  </thead>\n",
       "  <tbody>\n",
       "    <tr>\n",
       "      <th>0</th>\n",
       "      <td>21206260</td>\n",
       "      <td>2020-01-11 07:00:00</td>\n",
       "      <td>0.0</td>\n",
       "      <td>4.798639</td>\n",
       "      <td>-74.049722</td>\n",
       "    </tr>\n",
       "    <tr>\n",
       "      <th>1</th>\n",
       "      <td>21206260</td>\n",
       "      <td>2020-01-11 08:00:00</td>\n",
       "      <td>0.0</td>\n",
       "      <td>4.798639</td>\n",
       "      <td>-74.049722</td>\n",
       "    </tr>\n",
       "    <tr>\n",
       "      <th>2</th>\n",
       "      <td>21206260</td>\n",
       "      <td>2020-01-11 09:00:00</td>\n",
       "      <td>0.0</td>\n",
       "      <td>4.798639</td>\n",
       "      <td>-74.049722</td>\n",
       "    </tr>\n",
       "    <tr>\n",
       "      <th>3</th>\n",
       "      <td>21206260</td>\n",
       "      <td>2020-01-11 10:00:00</td>\n",
       "      <td>0.0</td>\n",
       "      <td>4.798639</td>\n",
       "      <td>-74.049722</td>\n",
       "    </tr>\n",
       "    <tr>\n",
       "      <th>4</th>\n",
       "      <td>21206260</td>\n",
       "      <td>2020-01-11 11:00:00</td>\n",
       "      <td>0.0</td>\n",
       "      <td>4.798639</td>\n",
       "      <td>-74.049722</td>\n",
       "    </tr>\n",
       "    <tr>\n",
       "      <th>...</th>\n",
       "      <td>...</td>\n",
       "      <td>...</td>\n",
       "      <td>...</td>\n",
       "      <td>...</td>\n",
       "      <td>...</td>\n",
       "    </tr>\n",
       "    <tr>\n",
       "      <th>1822992</th>\n",
       "      <td>UNION-COLOMBIA</td>\n",
       "      <td>2020-12-31 19:00:00</td>\n",
       "      <td>0.0</td>\n",
       "      <td>4.159470</td>\n",
       "      <td>-74.027520</td>\n",
       "    </tr>\n",
       "    <tr>\n",
       "      <th>1822993</th>\n",
       "      <td>UNION-COLOMBIA</td>\n",
       "      <td>2020-12-31 20:00:00</td>\n",
       "      <td>0.0</td>\n",
       "      <td>4.159470</td>\n",
       "      <td>-74.027520</td>\n",
       "    </tr>\n",
       "    <tr>\n",
       "      <th>1822994</th>\n",
       "      <td>UNION-COLOMBIA</td>\n",
       "      <td>2020-12-31 21:00:00</td>\n",
       "      <td>0.0</td>\n",
       "      <td>4.159470</td>\n",
       "      <td>-74.027520</td>\n",
       "    </tr>\n",
       "    <tr>\n",
       "      <th>1822995</th>\n",
       "      <td>UNION-COLOMBIA</td>\n",
       "      <td>2020-12-31 22:00:00</td>\n",
       "      <td>0.0</td>\n",
       "      <td>4.159470</td>\n",
       "      <td>-74.027520</td>\n",
       "    </tr>\n",
       "    <tr>\n",
       "      <th>1822996</th>\n",
       "      <td>UNION-COLOMBIA</td>\n",
       "      <td>2020-12-31 23:00:00</td>\n",
       "      <td>0.0</td>\n",
       "      <td>4.159470</td>\n",
       "      <td>-74.027520</td>\n",
       "    </tr>\n",
       "  </tbody>\n",
       "</table>\n",
       "<p>1822997 rows × 5 columns</p>\n",
       "</div>"
      ],
      "text/plain": [
       "               ESTACION                FECHA  VALOR   LATITUD   LONGITUD\n",
       "0              21206260  2020-01-11 07:00:00    0.0  4.798639 -74.049722\n",
       "1              21206260  2020-01-11 08:00:00    0.0  4.798639 -74.049722\n",
       "2              21206260  2020-01-11 09:00:00    0.0  4.798639 -74.049722\n",
       "3              21206260  2020-01-11 10:00:00    0.0  4.798639 -74.049722\n",
       "4              21206260  2020-01-11 11:00:00    0.0  4.798639 -74.049722\n",
       "...                 ...                  ...    ...       ...        ...\n",
       "1822992  UNION-COLOMBIA  2020-12-31 19:00:00    0.0  4.159470 -74.027520\n",
       "1822993  UNION-COLOMBIA  2020-12-31 20:00:00    0.0  4.159470 -74.027520\n",
       "1822994  UNION-COLOMBIA  2020-12-31 21:00:00    0.0  4.159470 -74.027520\n",
       "1822995  UNION-COLOMBIA  2020-12-31 22:00:00    0.0  4.159470 -74.027520\n",
       "1822996  UNION-COLOMBIA  2020-12-31 23:00:00    0.0  4.159470 -74.027520\n",
       "\n",
       "[1822997 rows x 5 columns]"
      ]
     },
     "execution_count": 24,
     "metadata": {},
     "output_type": "execute_result"
    }
   ],
   "source": [
    "df"
   ]
  },
  {
   "cell_type": "code",
   "execution_count": null,
   "metadata": {},
   "outputs": [],
   "source": []
  }
 ],
 "metadata": {
  "kernelspec": {
   "display_name": "Python 3",
   "language": "python",
   "name": "python3"
  },
  "language_info": {
   "codemirror_mode": {
    "name": "ipython",
    "version": 3
   },
   "file_extension": ".py",
   "mimetype": "text/x-python",
   "name": "python",
   "nbconvert_exporter": "python",
   "pygments_lexer": "ipython3",
   "version": "3.8.5"
  }
 },
 "nbformat": 4,
 "nbformat_minor": 4
}
